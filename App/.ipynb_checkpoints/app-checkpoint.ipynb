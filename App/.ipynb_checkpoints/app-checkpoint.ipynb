{
 "cells": [
  {
   "cell_type": "code",
   "execution_count": 1,
   "metadata": {},
   "outputs": [],
   "source": [
    "#necessary imports\n",
    "import math\n",
    "import random"
   ]
  },
  {
   "cell_type": "code",
   "execution_count": 2,
   "metadata": {},
   "outputs": [],
   "source": [
    "#recursive jacobi function taken from the original paper but not used due to the low maximum recursive depth limit\n",
    "def jacobi_old(a, b):\n",
    "    if (a == 1):\n",
    "        return 1\n",
    "    if (a % 2 == 0):\n",
    "        return jacobi(a//2, b)*((-1)**(((b**2) - 1)//8))\n",
    "    else:\n",
    "        return jacobi(b%a, a)*((-1)**(((a-1)*(b-1))//4))"
   ]
  },
  {
   "cell_type": "code",
   "execution_count": 3,
   "metadata": {},
   "outputs": [],
   "source": [
    "#function taken from the original paper for testing primality but not suitable for numbers with less than 100 digits\n",
    "def prime_tester_old(b):\n",
    "    counter = 0\n",
    "    for i in range(115):\n",
    "        a = random.randint(1, b)\n",
    "        condition1 = math.gcd(a, b) == 1\n",
    "        condition2 = jacobi(a, b) % b == a**((b-1)//2)\n",
    "        if (condition1 and condition2):\n",
    "            counter += 1\n",
    "        if (counter == 100):\n",
    "            return True\n",
    "    return False"
   ]
  },
  {
   "cell_type": "code",
   "execution_count": 4,
   "metadata": {},
   "outputs": [],
   "source": [
    "#function to generate a 100 digit odd number\n",
    "def odd_100_digit_num_generator(start):\n",
    "    x = random.randint(start, 10**100)\n",
    "    if (x % 2 != 0):\n",
    "        return x\n",
    "    else:\n",
    "        return x+1"
   ]
  },
  {
   "cell_type": "code",
   "execution_count": 5,
   "metadata": {},
   "outputs": [],
   "source": [
    "#function to generate a 100 digit prime number\n",
    "def prime_100_digit_num():\n",
    "    num = odd_100_digit_num_generator(10**99)\n",
    "    is_prime = prime_tester(num)\n",
    "    while (not is_prime):\n",
    "        num = odd_100_digit_num_generator(10**99)\n",
    "        is_prime = prime_tester(num)\n",
    "    return num"
   ]
  },
  {
   "cell_type": "code",
   "execution_count": 6,
   "metadata": {},
   "outputs": [],
   "source": [
    "#function to generate 'd' from 100 digit prime numbers 'p' and 'q'\n",
    "def choose_d_old(p, q):\n",
    "    maximum = max(p, q)\n",
    "    d = odd_100_digit_num_generator(maximum)\n",
    "    is_prime = prime_tester(d)\n",
    "    while (not is_prime):\n",
    "        d = odd_100_digit_num_generator(maximum)\n",
    "        is_prime = prime_tester(d)\n",
    "    return d"
   ]
  },
  {
   "cell_type": "code",
   "execution_count": 7,
   "metadata": {},
   "outputs": [],
   "source": [
    "#function to compute 'e' (the multiplicative inverse (mod phi) of d)\n",
    "def compute_e(p, q, d):\n",
    "    phi = (p-1)*(q-1)\n",
    "    m0 = phi\n",
    "    y = 0\n",
    "    e = 1 \n",
    "    if (phi == 1):\n",
    "        return 0\n",
    "    while (d > 1):\n",
    "        quo = d // phi\n",
    "        t = phi\n",
    "        phi = d % phi\n",
    "        d = t\n",
    "        t = y\n",
    "        y = e - quo * y\n",
    "        e = t\n",
    "    if (e < 0):\n",
    "        e = e + m0\n",
    "    if (e < math.log(p*q, 2)):\n",
    "        return (False, e)\n",
    "    return (True, e)"
   ]
  },
  {
   "cell_type": "code",
   "execution_count": 8,
   "metadata": {},
   "outputs": [],
   "source": [
    "#function to compute phi\n",
    "def compute_phi(p, q):\n",
    "    return (p-1)*(q-1)"
   ]
  },
  {
   "cell_type": "code",
   "execution_count": 9,
   "metadata": {},
   "outputs": [],
   "source": [
    "#encryption function that takes a message, 'n', 'e' and returns the encrypted message\n",
    "def encrypt(M, n, e):\n",
    "    C = 1\n",
    "    e_binary = [int(x) for x in list(\"{0:b}\".format(e))]\n",
    "    k = len(e_binary) - 1\n",
    "    for i in range(k + 1):\n",
    "        C = (C**2) % n\n",
    "        if e_binary[i] == 1:\n",
    "            C = (C*M) % n\n",
    "    return C "
   ]
  },
  {
   "cell_type": "code",
   "execution_count": 10,
   "metadata": {},
   "outputs": [],
   "source": [
    "#decryption function that takes an encrypted message, 'n', 'd' and returns the decrypted message\n",
    "def decrypt(C, n, d):\n",
    "    M = 1\n",
    "    d_binary = [int(x) for x in list(\"{0:b}\".format(d))]\n",
    "    k = len(d_binary) - 1\n",
    "    for i in range(k + 1):\n",
    "        M = (M**2) % n\n",
    "        if d_binary[i] == 1:\n",
    "            M = (M*C) % n\n",
    "    return M "
   ]
  },
  {
   "cell_type": "code",
   "execution_count": 11,
   "metadata": {},
   "outputs": [],
   "source": [
    "#iterative version of the jacobi function\n",
    "def jacobi(a, b):\n",
    "        t = 1\n",
    "        while a != 0:\n",
    "            while a % 2 == 0:\n",
    "                a /= 2\n",
    "                r = b % 8\n",
    "                if r == 3 or r == 5:\n",
    "                    t = -t\n",
    "            a, b = b, a\n",
    "            if a % 4 == b % 4 == 3:\n",
    "                t = -t\n",
    "            a %= b\n",
    "        if b == 1:\n",
    "            return t\n",
    "        else:\n",
    "            return 0"
   ]
  },
  {
   "cell_type": "code",
   "execution_count": 12,
   "metadata": {},
   "outputs": [],
   "source": [
    "#function for testing the primality of a number, suitable for relatively low numbers\n",
    "def prime_tester(b):\n",
    "    flag = False\n",
    "\n",
    "    if b > 1:\n",
    "        for i in range(2, b):\n",
    "            if (b % i) == 0:\n",
    "                flag = True\n",
    "                break\n",
    "    if flag:\n",
    "        return False\n",
    "    else:\n",
    "        return True"
   ]
  },
  {
   "cell_type": "code",
   "execution_count": 13,
   "metadata": {},
   "outputs": [],
   "source": [
    "#function to generate a 3 digit odd number\n",
    "def odd_3_digit_num_generator(start):\n",
    "    x = random.randint(start, 10**3)\n",
    "    if (x % 2 != 0):\n",
    "        return x\n",
    "    else:\n",
    "        return x+1"
   ]
  },
  {
   "cell_type": "code",
   "execution_count": 14,
   "metadata": {},
   "outputs": [],
   "source": [
    "#function to generate a 3 digit prime number\n",
    "def prime_3_digit_num():\n",
    "    num = odd_3_digit_num_generator(10**2)\n",
    "    is_prime = prime_tester(num)\n",
    "    while (not is_prime):\n",
    "        num = odd_3_digit_num_generator(10**2)\n",
    "        is_prime = prime_tester(num)\n",
    "    return num"
   ]
  },
  {
   "cell_type": "code",
   "execution_count": 15,
   "metadata": {},
   "outputs": [],
   "source": [
    "#function to generate 'd' from 3 digit prime numbers 'p' and 'q'\n",
    "def choose_d(p, q):\n",
    "    maximum = max(p, q)\n",
    "    d = odd_3_digit_num_generator(maximum)\n",
    "    is_prime = prime_tester(d)\n",
    "    while (not is_prime):\n",
    "        d = odd_3_digit_num_generator(maximum)\n",
    "        is_prime = prime_tester(d)\n",
    "    return d"
   ]
  },
  {
   "cell_type": "code",
   "execution_count": 16,
   "metadata": {},
   "outputs": [],
   "source": [
    "#function to convert string to ascii code\n",
    "def text_to_ascii(text):\n",
    "    return [ord(c) for c in text]"
   ]
  },
  {
   "cell_type": "code",
   "execution_count": 17,
   "metadata": {},
   "outputs": [],
   "source": [
    "#function to convert ascii code to string\n",
    "def ascii_to_text(code):\n",
    "    return ''.join(chr(i) for i in code)"
   ]
  },
  {
   "cell_type": "code",
   "execution_count": 18,
   "metadata": {},
   "outputs": [],
   "source": [
    "#a small example in the cells below\n",
    "p = prime_3_digit_num()\n",
    "q = prime_3_digit_num()\n",
    "n = p*q\n",
    "phi = compute_phi(p, q)\n",
    "d = choose_d(p, q)\n",
    "wrap_around = compute_e(p, q, d)\n",
    "#choosing a new 'd' until e < log2(n)\n",
    "while(not wrap_around[0]):\n",
    "    d = choose_d(p, q)\n",
    "    wrap_around = compute_e(p, q, d)\n",
    "e = wrap_around[1]"
   ]
  },
  {
   "cell_type": "code",
   "execution_count": 19,
   "metadata": {},
   "outputs": [],
   "source": [
    "message = \"ITS ALL GREEK TO ME\"\n",
    "encrypted_message = []\n",
    "for x in text_to_ascii(message):\n",
    "    encrypted_message.append(encrypt(x, n, e))"
   ]
  },
  {
   "cell_type": "code",
   "execution_count": 20,
   "metadata": {},
   "outputs": [
    {
     "name": "stdout",
     "output_type": "stream",
     "text": [
      "ITS ALL GREEK TO ME\n"
     ]
    }
   ],
   "source": [
    "decrypted_list = []\n",
    "for x in encrypted_message:\n",
    "    decrypted_list.append(decrypt(x, n, d))\n",
    "decrypted_message = ascii_to_text(decrypted_list)\n",
    "print(decrypted_message)"
   ]
  },
  {
   "cell_type": "code",
   "execution_count": null,
   "metadata": {},
   "outputs": [],
   "source": []
  }
 ],
 "metadata": {
  "kernelspec": {
   "display_name": "Python 3",
   "language": "python",
   "name": "python3"
  },
  "language_info": {
   "codemirror_mode": {
    "name": "ipython",
    "version": 3
   },
   "file_extension": ".py",
   "mimetype": "text/x-python",
   "name": "python",
   "nbconvert_exporter": "python",
   "pygments_lexer": "ipython3",
   "version": "3.8.5"
  }
 },
 "nbformat": 4,
 "nbformat_minor": 4
}
